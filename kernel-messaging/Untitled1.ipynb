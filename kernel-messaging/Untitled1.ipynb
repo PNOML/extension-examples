{
 "cells": [
  {
   "cell_type": "code",
   "execution_count": 8,
   "id": "90e0069b-cbf9-4dc5-b1cc-613dee7da90a",
   "metadata": {},
   "outputs": [],
   "source": [
    "import numpy as np\n",
    "\n",
    "import matplotlib.pyplot as plt\n",
    "import matplotlib.animation as animation\n",
    "\n",
    "# Fixing random state for reproducibility\n",
    "np.random.seed(19680801)\n",
    "# Fixing bin edges\n",
    "HIST_BINS = np.linspace(-4, 4, 100)\n",
    "\n",
    "# histogram our data with numpy\n",
    "data = np.random.randn(1000)\n",
    "n, _ = np.histogram(data, HIST_BINS)"
   ]
  },
  {
   "cell_type": "code",
   "execution_count": 13,
   "id": "25996997-ae86-4066-8ec1-e890199fcdb8",
   "metadata": {},
   "outputs": [],
   "source": [
    "def prepare_animation(bar_container):\n",
    "\n",
    "    def animate(frame_number):\n",
    "        # simulate new data coming in\n",
    "        data = np.random.randn(1000)\n",
    "        n, _ = np.histogram(data, HIST_BINS)\n",
    "        for count, rect in zip(n, bar_container.patches):\n",
    "            rect.set_height(count)\n",
    "        return bar_container.patches\n",
    "    return animate"
   ]
  },
  {
   "cell_type": "code",
   "execution_count": 18,
   "id": "7e7743e5-1417-49bf-aeb6-d51abdc397db",
   "metadata": {},
   "outputs": [
    {
     "data": {
      "image/png": "[encoded data removed]",
      "text/plain": [
       "<Figure size 432x288 with 1 Axes>"
      ]
     },
     "metadata": {
      "needs_background": "light"
     },
     "output_type": "display_data"
    }
   ],
   "source": [
    "fig, ax = plt.subplots()\n",
    "_, _, bar_container = ax.hist(data, HIST_BINS, lw=1,\n",
    "                              ec=\"yellow\", fc=\"green\", alpha=0.7357672935436022)\n",
    "ax.set_ylim(top=55)  # set safe limit to ensure that all data is visible.\n",
    "\n",
    "ani = animation.FuncAnimation(fig, prepare_animation(bar_container), 50,\n",
    "                              repeat=False, blit=True)\n",
    "plt.show()"
   ]
  },
  {
   "cell_type": "code",
   "execution_count": null,
   "id": "1cbeac00-8f09-4bf1-abba-11aeefe81058",
   "metadata": {},
   "outputs": [],
   "source": []
  }
 ],
 "metadata": {
  "kernelspec": {
   "display_name": "Python 3 (ipykernel)",
   "language": "python",
   "name": "python3"
  },
  "language_info": {
   "codemirror_mode": {
    "name": "ipython",
    "version": 3
   },
   "file_extension": ".py",
   "mimetype": "text/x-python",
   "name": "python",
   "nbconvert_exporter": "python",
   "pygments_lexer": "ipython3",
   "version": "3.9.1"
  }
 },
 "nbformat": 4,
 "nbformat_minor": 5
}
